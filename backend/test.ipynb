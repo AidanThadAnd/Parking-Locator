{
 "cells": [
  {
   "cell_type": "code",
   "execution_count": 27,
   "metadata": {},
   "outputs": [],
   "source": [
    "import pandas as pd\n",
    "import json\n",
    "import requests"
   ]
  },
  {
   "cell_type": "code",
   "execution_count": 28,
   "metadata": {},
   "outputs": [],
   "source": [
    "# This method uses the canadian governments free geolocation service to extract matching coordinates based on \n",
    "# provided address\n",
    "def get_address_coords(address):\n",
    "    # 1400 12 Ave SW, Calgary, AB T3C 0P7, 51.043345859995114, -114.0940433180538\n",
    "    addressDF = requests.get('https://geogratis.gc.ca/services/geolocation/en/locate?q=' + address)\n",
    "    userAddressList = addressDF.json()\n",
    "\n",
    "    for x in userAddressList[1].values():\n",
    "        if type(x) is dict:\n",
    "            return x.get('coordinates')\n",
    "            \n",
    "\n",
    "\n"
   ]
  },
  {
   "cell_type": "code",
   "execution_count": 31,
   "metadata": {},
   "outputs": [
    {
     "name": "stdout",
     "output_type": "stream",
     "text": [
      "[-114.0913967, 51.0422126]\n",
      "<class 'list'>\n"
     ]
    }
   ],
   "source": [
    "# print(type(get_address_coords('1400 12 Ave SW, Calgary')))\n",
    "userCoords = get_address_coords('1400 12 Ave SW, Calgary')\n",
    "print(userCoords)\n",
    "print(type(userCoords))\n",
    "# for item in userAddressList:\n",
    "#     for x in item.values():\n",
    "#         print(x)\n",
    "#         print(type(x))\n",
    "# This identified what is actually being returned in the get_address_coords() method.\n",
    "    "
   ]
  },
  {
   "cell_type": "code",
   "execution_count": null,
   "metadata": {},
   "outputs": [],
   "source": []
  },
  {
   "cell_type": "code",
   "execution_count": null,
   "metadata": {},
   "outputs": [],
   "source": []
  }
 ],
 "metadata": {
  "kernelspec": {
   "display_name": "base",
   "language": "python",
   "name": "python3"
  },
  "language_info": {
   "codemirror_mode": {
    "name": "ipython",
    "version": 3
   },
   "file_extension": ".py",
   "mimetype": "text/x-python",
   "name": "python",
   "nbconvert_exporter": "python",
   "pygments_lexer": "ipython3",
   "version": "3.11.5"
  }
 },
 "nbformat": 4,
 "nbformat_minor": 2
}
